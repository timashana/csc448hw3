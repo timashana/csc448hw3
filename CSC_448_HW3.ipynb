{
  "nbformat": 4,
  "nbformat_minor": 0,
  "metadata": {
    "kernelspec": {
      "display_name": "Python 3",
      "language": "python",
      "name": "python3"
    },
    "language_info": {
      "codemirror_mode": {
        "name": "ipython",
        "version": 3
      },
      "file_extension": ".py",
      "mimetype": "text/x-python",
      "name": "python",
      "nbconvert_exporter": "python",
      "pygments_lexer": "ipython3",
      "version": "3.7.5"
    },
    "colab": {
      "name": "CSC 448 HW3",
      "provenance": [],
      "collapsed_sections": []
    }
  },
  "cells": [
    {
      "cell_type": "markdown",
      "metadata": {
        "id": "QhEcSBjr5nlO"
      },
      "source": [
        "<a href=\"https://colab.research.google.com/drive/1XxI1ZlgVrTL2JBEBXaE05HqUMX8y0dg-?usp=sharing\" target=\"_parent\"><img src=\"https://colab.research.google.com/assets/colab-badge.svg\" alt=\"Open In Colab\"/></a>\n",
        "# HW3 CSC 448\n",
        "\n",
        "## Abstract\n",
        "\n",
        "For this project, I have selected the following two datasets:\n",
        "1. Human Freedom Index \n",
        "2. NASA Asteroids Classification\n",
        "\n",
        "I chose these datasets because I thought they would be a good fit to try some of the learned Regression and Classification techniques on. When I saw the Human Freedom Index dataset, I thought it would be interesting to try and find correlation between different metrics of human freedoms and rights across the world and try to predict them. I also thought it would be interesting to try and understand what makes an asteroid hazardous and how easy it is to predict it.\n",
        "\n",
        "For classification, I will use two techniques: KNN, and  MLP neural network\n",
        "\n",
        "Over the course of this networks, I hope to find meaningful insights and correlations in the above datasets and discover trends in the data."
      ]
    },
    {
      "cell_type": "markdown",
      "metadata": {
        "id": "1mvSUJeN5nlY"
      },
      "source": [
        "## Section 1: Prepping the Regression datasets\n",
        "\n",
        "+ For Human Freedom Index, there are multiple columns signifying different levels of persona and economic freedoms, as well as safety that different Countries had over the past decade.\n",
        "\n",
        "You can read more details on the dataset here: https://www.cato.org/human-freedom-index/2020"
      ]
    },
    {
      "cell_type": "code",
      "metadata": {
        "id": "7uwYfxvd5nlZ",
        "colab": {
          "base_uri": "https://localhost:8080/",
          "height": 355
        },
        "outputId": "a31c5a90-a16f-41ad-9317-f234dc30d40d"
      },
      "source": [
        "# dataset and its first 15 rows\n",
        "import pandas as pd\n",
        "import matplotlib.pyplot as plt\n",
        "freedom_df = pd.read_csv('https://raw.githubusercontent.com/timashana/csc448hw3/main/hfi_cc_2020.csv')\n",
        "\n",
        "freedom_df.head()\n"
      ],
      "execution_count": 155,
      "outputs": [
        {
          "output_type": "execute_result",
          "data": {
            "text/html": [
              "<div>\n",
              "<style scoped>\n",
              "    .dataframe tbody tr th:only-of-type {\n",
              "        vertical-align: middle;\n",
              "    }\n",
              "\n",
              "    .dataframe tbody tr th {\n",
              "        vertical-align: top;\n",
              "    }\n",
              "\n",
              "    .dataframe thead th {\n",
              "        text-align: right;\n",
              "    }\n",
              "</style>\n",
              "<table border=\"1\" class=\"dataframe\">\n",
              "  <thead>\n",
              "    <tr style=\"text-align: right;\">\n",
              "      <th></th>\n",
              "      <th>Unnamed: 0</th>\n",
              "      <th>year</th>\n",
              "      <th>ISO_code</th>\n",
              "      <th>countries</th>\n",
              "      <th>region</th>\n",
              "      <th>hf_score</th>\n",
              "      <th>hf_rank</th>\n",
              "      <th>hf_quartile</th>\n",
              "      <th>pf_rol_procedural</th>\n",
              "      <th>pf_rol_civil</th>\n",
              "      <th>pf_rol_criminal</th>\n",
              "      <th>pf_rol</th>\n",
              "      <th>pf_ss_homicide</th>\n",
              "      <th>pf_ss_disappearances_disap</th>\n",
              "      <th>pf_ss_disappearances_violent</th>\n",
              "      <th>pf_ss_disappearances_organized</th>\n",
              "      <th>pf_ss_disappearances_fatalities</th>\n",
              "      <th>pf_ss_disappearances_injuries</th>\n",
              "      <th>pf_ss_disappearances</th>\n",
              "      <th>pf_ss_women_fgm</th>\n",
              "      <th>pf_ss_women_inheritance</th>\n",
              "      <th>pf_ss_women</th>\n",
              "      <th>pf_ss</th>\n",
              "      <th>pf_movement_domestic</th>\n",
              "      <th>pf_movement_foreign</th>\n",
              "      <th>pf_movement_women</th>\n",
              "      <th>pf_movement</th>\n",
              "      <th>pf_religion_freedom</th>\n",
              "      <th>pf_religion_repression</th>\n",
              "      <th>pf_religion_harassment</th>\n",
              "      <th>pf_religion_restrictions</th>\n",
              "      <th>pf_religion</th>\n",
              "      <th>pf_association_entry</th>\n",
              "      <th>pf_association_assembly</th>\n",
              "      <th>pf_association_barries</th>\n",
              "      <th>pf_association_bans</th>\n",
              "      <th>pf_association_estopparties</th>\n",
              "      <th>pf_association_opposition</th>\n",
              "      <th>pf_association_civilrepression</th>\n",
              "      <th>pf_association</th>\n",
              "      <th>...</th>\n",
              "      <th>ef_money_growth</th>\n",
              "      <th>ef_money_sd</th>\n",
              "      <th>ef_money_inflation</th>\n",
              "      <th>ef_money_currency</th>\n",
              "      <th>ef_money</th>\n",
              "      <th>ef_trade_tariffs_revenue</th>\n",
              "      <th>ef_trade_tariffs_mean</th>\n",
              "      <th>ef_trade_tariffs_sd</th>\n",
              "      <th>ef_trade_tariffs</th>\n",
              "      <th>ef_trade_regulatory_nontariff</th>\n",
              "      <th>ef_trade_regulatory_compliance</th>\n",
              "      <th>ef_trade_regulatory</th>\n",
              "      <th>ef_trade_black</th>\n",
              "      <th>ef_trade_movement_foreign</th>\n",
              "      <th>ef_trade_movement_capital</th>\n",
              "      <th>ef_trade_movement_visit</th>\n",
              "      <th>ef_trade_movement</th>\n",
              "      <th>ef_trade</th>\n",
              "      <th>ef_regulation_credit_ownership</th>\n",
              "      <th>ef_regulation_credit_private</th>\n",
              "      <th>ef_regulation_credit_interest</th>\n",
              "      <th>ef_regulation_credit</th>\n",
              "      <th>ef_regulation_labor_minwage</th>\n",
              "      <th>ef_regulation_labor_firing</th>\n",
              "      <th>ef_regulation_labor_bargain</th>\n",
              "      <th>ef_regulation_labor_hours</th>\n",
              "      <th>ef_regulation_labor_dismissal</th>\n",
              "      <th>ef_regulation_labor_conscription</th>\n",
              "      <th>ef_regulation_labor</th>\n",
              "      <th>ef_regulation_business_adm</th>\n",
              "      <th>ef_regulation_business_bureaucracy</th>\n",
              "      <th>ef_regulation_business_start</th>\n",
              "      <th>ef_regulation_business_bribes</th>\n",
              "      <th>ef_regulation_business_licensing</th>\n",
              "      <th>ef_regulation_business_compliance</th>\n",
              "      <th>ef_regulation_business</th>\n",
              "      <th>ef_regulation</th>\n",
              "      <th>ef_score</th>\n",
              "      <th>ef_rank</th>\n",
              "      <th>womens_freedom</th>\n",
              "    </tr>\n",
              "  </thead>\n",
              "  <tbody>\n",
              "    <tr>\n",
              "      <th>0</th>\n",
              "      <td>0</td>\n",
              "      <td>2018</td>\n",
              "      <td>ALB</td>\n",
              "      <td>Albania</td>\n",
              "      <td>Eastern Europe</td>\n",
              "      <td>7.81</td>\n",
              "      <td>43.0</td>\n",
              "      <td>2.0</td>\n",
              "      <td>6.0</td>\n",
              "      <td>4.8</td>\n",
              "      <td>4.3</td>\n",
              "      <td>5.0</td>\n",
              "      <td>9.1</td>\n",
              "      <td>10.0</td>\n",
              "      <td>10.0</td>\n",
              "      <td>10.0</td>\n",
              "      <td>10.0</td>\n",
              "      <td>10.0</td>\n",
              "      <td>10.0</td>\n",
              "      <td>10.0</td>\n",
              "      <td>7.5</td>\n",
              "      <td>8.8</td>\n",
              "      <td>9.3</td>\n",
              "      <td>10.0</td>\n",
              "      <td>10.0</td>\n",
              "      <td>10.0</td>\n",
              "      <td>10.0</td>\n",
              "      <td>9.0</td>\n",
              "      <td>9.0</td>\n",
              "      <td>9.6</td>\n",
              "      <td>8.0</td>\n",
              "      <td>8.9</td>\n",
              "      <td>8.8</td>\n",
              "      <td>10.0</td>\n",
              "      <td>7.8</td>\n",
              "      <td>8.2</td>\n",
              "      <td>8.0</td>\n",
              "      <td>7.8</td>\n",
              "      <td>8.2</td>\n",
              "      <td>8.6</td>\n",
              "      <td>...</td>\n",
              "      <td>10.0</td>\n",
              "      <td>9.7</td>\n",
              "      <td>9.6</td>\n",
              "      <td>10.0</td>\n",
              "      <td>9.8</td>\n",
              "      <td>9.7</td>\n",
              "      <td>9.3</td>\n",
              "      <td>8.1</td>\n",
              "      <td>9.0</td>\n",
              "      <td>6.8</td>\n",
              "      <td>9.4</td>\n",
              "      <td>8.1</td>\n",
              "      <td>10.0</td>\n",
              "      <td>4.2</td>\n",
              "      <td>4.6</td>\n",
              "      <td>8.3</td>\n",
              "      <td>5.7</td>\n",
              "      <td>8.2</td>\n",
              "      <td>10.0</td>\n",
              "      <td>9.2</td>\n",
              "      <td>10.0</td>\n",
              "      <td>9.7</td>\n",
              "      <td>5.6</td>\n",
              "      <td>4.9</td>\n",
              "      <td>5.6</td>\n",
              "      <td>8.0</td>\n",
              "      <td>6.3</td>\n",
              "      <td>10.0</td>\n",
              "      <td>6.7</td>\n",
              "      <td>5.7</td>\n",
              "      <td>6.7</td>\n",
              "      <td>9.7</td>\n",
              "      <td>5.4</td>\n",
              "      <td>5.6</td>\n",
              "      <td>7.2</td>\n",
              "      <td>6.7</td>\n",
              "      <td>7.7</td>\n",
              "      <td>7.80</td>\n",
              "      <td>26.0</td>\n",
              "      <td>9.26</td>\n",
              "    </tr>\n",
              "    <tr>\n",
              "      <th>1</th>\n",
              "      <td>1</td>\n",
              "      <td>2017</td>\n",
              "      <td>ALB</td>\n",
              "      <td>Albania</td>\n",
              "      <td>Eastern Europe</td>\n",
              "      <td>7.78</td>\n",
              "      <td>44.0</td>\n",
              "      <td>2.0</td>\n",
              "      <td>6.3</td>\n",
              "      <td>4.4</td>\n",
              "      <td>4.7</td>\n",
              "      <td>5.3</td>\n",
              "      <td>9.1</td>\n",
              "      <td>10.0</td>\n",
              "      <td>10.0</td>\n",
              "      <td>10.0</td>\n",
              "      <td>10.0</td>\n",
              "      <td>10.0</td>\n",
              "      <td>10.0</td>\n",
              "      <td>10.0</td>\n",
              "      <td>7.5</td>\n",
              "      <td>8.8</td>\n",
              "      <td>9.3</td>\n",
              "      <td>10.0</td>\n",
              "      <td>10.0</td>\n",
              "      <td>10.0</td>\n",
              "      <td>10.0</td>\n",
              "      <td>8.2</td>\n",
              "      <td>9.0</td>\n",
              "      <td>9.6</td>\n",
              "      <td>8.0</td>\n",
              "      <td>8.7</td>\n",
              "      <td>7.9</td>\n",
              "      <td>10.0</td>\n",
              "      <td>8.0</td>\n",
              "      <td>8.2</td>\n",
              "      <td>8.1</td>\n",
              "      <td>7.9</td>\n",
              "      <td>8.3</td>\n",
              "      <td>8.4</td>\n",
              "      <td>...</td>\n",
              "      <td>9.2</td>\n",
              "      <td>9.7</td>\n",
              "      <td>9.6</td>\n",
              "      <td>10.0</td>\n",
              "      <td>9.6</td>\n",
              "      <td>9.6</td>\n",
              "      <td>9.3</td>\n",
              "      <td>8.1</td>\n",
              "      <td>9.0</td>\n",
              "      <td>6.0</td>\n",
              "      <td>9.4</td>\n",
              "      <td>7.7</td>\n",
              "      <td>10.0</td>\n",
              "      <td>4.2</td>\n",
              "      <td>5.4</td>\n",
              "      <td>8.3</td>\n",
              "      <td>5.9</td>\n",
              "      <td>8.2</td>\n",
              "      <td>10.0</td>\n",
              "      <td>9.1</td>\n",
              "      <td>10.0</td>\n",
              "      <td>9.7</td>\n",
              "      <td>5.6</td>\n",
              "      <td>5.4</td>\n",
              "      <td>6.4</td>\n",
              "      <td>8.0</td>\n",
              "      <td>6.3</td>\n",
              "      <td>10.0</td>\n",
              "      <td>6.9</td>\n",
              "      <td>6.3</td>\n",
              "      <td>6.7</td>\n",
              "      <td>9.7</td>\n",
              "      <td>6.0</td>\n",
              "      <td>6.0</td>\n",
              "      <td>7.2</td>\n",
              "      <td>7.0</td>\n",
              "      <td>7.9</td>\n",
              "      <td>7.70</td>\n",
              "      <td>36.0</td>\n",
              "      <td>9.26</td>\n",
              "    </tr>\n",
              "    <tr>\n",
              "      <th>2</th>\n",
              "      <td>2</td>\n",
              "      <td>2016</td>\n",
              "      <td>ALB</td>\n",
              "      <td>Albania</td>\n",
              "      <td>Eastern Europe</td>\n",
              "      <td>7.63</td>\n",
              "      <td>50.0</td>\n",
              "      <td>2.0</td>\n",
              "      <td>6.7</td>\n",
              "      <td>4.5</td>\n",
              "      <td>4.7</td>\n",
              "      <td>5.3</td>\n",
              "      <td>8.6</td>\n",
              "      <td>10.0</td>\n",
              "      <td>10.0</td>\n",
              "      <td>10.0</td>\n",
              "      <td>10.0</td>\n",
              "      <td>10.0</td>\n",
              "      <td>10.0</td>\n",
              "      <td>10.0</td>\n",
              "      <td>5.0</td>\n",
              "      <td>7.5</td>\n",
              "      <td>8.7</td>\n",
              "      <td>10.0</td>\n",
              "      <td>10.0</td>\n",
              "      <td>5.0</td>\n",
              "      <td>8.3</td>\n",
              "      <td>9.0</td>\n",
              "      <td>8.9</td>\n",
              "      <td>9.6</td>\n",
              "      <td>8.0</td>\n",
              "      <td>8.9</td>\n",
              "      <td>7.9</td>\n",
              "      <td>10.0</td>\n",
              "      <td>8.0</td>\n",
              "      <td>8.2</td>\n",
              "      <td>8.1</td>\n",
              "      <td>8.0</td>\n",
              "      <td>8.3</td>\n",
              "      <td>8.5</td>\n",
              "      <td>...</td>\n",
              "      <td>9.0</td>\n",
              "      <td>9.5</td>\n",
              "      <td>9.7</td>\n",
              "      <td>10.0</td>\n",
              "      <td>9.6</td>\n",
              "      <td>9.6</td>\n",
              "      <td>9.2</td>\n",
              "      <td>8.0</td>\n",
              "      <td>9.0</td>\n",
              "      <td>5.6</td>\n",
              "      <td>9.4</td>\n",
              "      <td>7.5</td>\n",
              "      <td>10.0</td>\n",
              "      <td>4.2</td>\n",
              "      <td>4.6</td>\n",
              "      <td>8.3</td>\n",
              "      <td>5.7</td>\n",
              "      <td>8.0</td>\n",
              "      <td>10.0</td>\n",
              "      <td>7.3</td>\n",
              "      <td>9.0</td>\n",
              "      <td>8.8</td>\n",
              "      <td>5.6</td>\n",
              "      <td>5.4</td>\n",
              "      <td>6.2</td>\n",
              "      <td>8.0</td>\n",
              "      <td>6.3</td>\n",
              "      <td>10.0</td>\n",
              "      <td>6.9</td>\n",
              "      <td>6.1</td>\n",
              "      <td>6.0</td>\n",
              "      <td>9.7</td>\n",
              "      <td>6.0</td>\n",
              "      <td>7.3</td>\n",
              "      <td>7.1</td>\n",
              "      <td>7.0</td>\n",
              "      <td>7.6</td>\n",
              "      <td>7.69</td>\n",
              "      <td>36.0</td>\n",
              "      <td>7.50</td>\n",
              "    </tr>\n",
              "    <tr>\n",
              "      <th>3</th>\n",
              "      <td>3</td>\n",
              "      <td>2015</td>\n",
              "      <td>ALB</td>\n",
              "      <td>Albania</td>\n",
              "      <td>Eastern Europe</td>\n",
              "      <td>7.55</td>\n",
              "      <td>52.0</td>\n",
              "      <td>2.0</td>\n",
              "      <td>6.7</td>\n",
              "      <td>4.5</td>\n",
              "      <td>4.7</td>\n",
              "      <td>5.2</td>\n",
              "      <td>8.9</td>\n",
              "      <td>10.0</td>\n",
              "      <td>10.0</td>\n",
              "      <td>10.0</td>\n",
              "      <td>10.0</td>\n",
              "      <td>10.0</td>\n",
              "      <td>10.0</td>\n",
              "      <td>10.0</td>\n",
              "      <td>5.0</td>\n",
              "      <td>7.5</td>\n",
              "      <td>8.8</td>\n",
              "      <td>5.0</td>\n",
              "      <td>10.0</td>\n",
              "      <td>5.0</td>\n",
              "      <td>6.7</td>\n",
              "      <td>9.0</td>\n",
              "      <td>8.9</td>\n",
              "      <td>9.2</td>\n",
              "      <td>8.5</td>\n",
              "      <td>8.9</td>\n",
              "      <td>7.9</td>\n",
              "      <td>10.0</td>\n",
              "      <td>8.0</td>\n",
              "      <td>8.2</td>\n",
              "      <td>8.1</td>\n",
              "      <td>8.0</td>\n",
              "      <td>8.3</td>\n",
              "      <td>8.5</td>\n",
              "      <td>...</td>\n",
              "      <td>9.3</td>\n",
              "      <td>9.4</td>\n",
              "      <td>9.6</td>\n",
              "      <td>10.0</td>\n",
              "      <td>9.6</td>\n",
              "      <td>9.3</td>\n",
              "      <td>9.2</td>\n",
              "      <td>8.0</td>\n",
              "      <td>8.9</td>\n",
              "      <td>5.4</td>\n",
              "      <td>9.4</td>\n",
              "      <td>7.4</td>\n",
              "      <td>10.0</td>\n",
              "      <td>4.2</td>\n",
              "      <td>4.6</td>\n",
              "      <td>8.3</td>\n",
              "      <td>5.7</td>\n",
              "      <td>8.0</td>\n",
              "      <td>10.0</td>\n",
              "      <td>7.6</td>\n",
              "      <td>10.0</td>\n",
              "      <td>9.2</td>\n",
              "      <td>5.6</td>\n",
              "      <td>5.0</td>\n",
              "      <td>6.1</td>\n",
              "      <td>8.0</td>\n",
              "      <td>6.3</td>\n",
              "      <td>10.0</td>\n",
              "      <td>6.8</td>\n",
              "      <td>6.1</td>\n",
              "      <td>6.0</td>\n",
              "      <td>9.7</td>\n",
              "      <td>6.0</td>\n",
              "      <td>7.3</td>\n",
              "      <td>7.1</td>\n",
              "      <td>7.0</td>\n",
              "      <td>7.7</td>\n",
              "      <td>7.70</td>\n",
              "      <td>34.0</td>\n",
              "      <td>7.50</td>\n",
              "    </tr>\n",
              "    <tr>\n",
              "      <th>4</th>\n",
              "      <td>4</td>\n",
              "      <td>2014</td>\n",
              "      <td>ALB</td>\n",
              "      <td>Albania</td>\n",
              "      <td>Eastern Europe</td>\n",
              "      <td>7.65</td>\n",
              "      <td>48.0</td>\n",
              "      <td>2.0</td>\n",
              "      <td>6.1</td>\n",
              "      <td>4.8</td>\n",
              "      <td>4.6</td>\n",
              "      <td>5.0</td>\n",
              "      <td>8.4</td>\n",
              "      <td>10.0</td>\n",
              "      <td>10.0</td>\n",
              "      <td>10.0</td>\n",
              "      <td>9.9</td>\n",
              "      <td>9.9</td>\n",
              "      <td>9.9</td>\n",
              "      <td>10.0</td>\n",
              "      <td>5.0</td>\n",
              "      <td>7.5</td>\n",
              "      <td>8.6</td>\n",
              "      <td>5.0</td>\n",
              "      <td>10.0</td>\n",
              "      <td>5.0</td>\n",
              "      <td>6.7</td>\n",
              "      <td>9.0</td>\n",
              "      <td>8.9</td>\n",
              "      <td>9.7</td>\n",
              "      <td>9.9</td>\n",
              "      <td>9.4</td>\n",
              "      <td>7.9</td>\n",
              "      <td>10.0</td>\n",
              "      <td>8.0</td>\n",
              "      <td>8.2</td>\n",
              "      <td>8.1</td>\n",
              "      <td>8.0</td>\n",
              "      <td>8.3</td>\n",
              "      <td>8.5</td>\n",
              "      <td>...</td>\n",
              "      <td>9.4</td>\n",
              "      <td>9.4</td>\n",
              "      <td>9.7</td>\n",
              "      <td>10.0</td>\n",
              "      <td>9.6</td>\n",
              "      <td>9.4</td>\n",
              "      <td>9.2</td>\n",
              "      <td>8.0</td>\n",
              "      <td>8.9</td>\n",
              "      <td>6.3</td>\n",
              "      <td>9.2</td>\n",
              "      <td>7.7</td>\n",
              "      <td>10.0</td>\n",
              "      <td>4.2</td>\n",
              "      <td>4.6</td>\n",
              "      <td>8.3</td>\n",
              "      <td>5.7</td>\n",
              "      <td>8.1</td>\n",
              "      <td>10.0</td>\n",
              "      <td>8.0</td>\n",
              "      <td>10.0</td>\n",
              "      <td>9.3</td>\n",
              "      <td>5.6</td>\n",
              "      <td>6.1</td>\n",
              "      <td>7.2</td>\n",
              "      <td>8.0</td>\n",
              "      <td>6.3</td>\n",
              "      <td>10.0</td>\n",
              "      <td>7.2</td>\n",
              "      <td>5.9</td>\n",
              "      <td>6.0</td>\n",
              "      <td>9.7</td>\n",
              "      <td>6.0</td>\n",
              "      <td>7.2</td>\n",
              "      <td>6.0</td>\n",
              "      <td>6.8</td>\n",
              "      <td>7.8</td>\n",
              "      <td>7.65</td>\n",
              "      <td>37.0</td>\n",
              "      <td>7.50</td>\n",
              "    </tr>\n",
              "  </tbody>\n",
              "</table>\n",
              "<p>5 rows × 113 columns</p>\n",
              "</div>"
            ],
            "text/plain": [
              "   Unnamed: 0  year ISO_code  ... ef_score ef_rank  womens_freedom\n",
              "0           0  2018      ALB  ...     7.80    26.0            9.26\n",
              "1           1  2017      ALB  ...     7.70    36.0            9.26\n",
              "2           2  2016      ALB  ...     7.69    36.0            7.50\n",
              "3           3  2015      ALB  ...     7.70    34.0            7.50\n",
              "4           4  2014      ALB  ...     7.65    37.0            7.50\n",
              "\n",
              "[5 rows x 113 columns]"
            ]
          },
          "metadata": {
            "tags": []
          },
          "execution_count": 155
        }
      ]
    },
    {
      "cell_type": "code",
      "metadata": {
        "colab": {
          "base_uri": "https://localhost:8080/"
        },
        "id": "u_bRiQ32xAch",
        "outputId": "8a769dd2-f8f5-4602-b13a-fd27680c73eb"
      },
      "source": [
        "# more info:\n",
        "freedom_df.info()"
      ],
      "execution_count": 156,
      "outputs": [
        {
          "output_type": "stream",
          "text": [
            "<class 'pandas.core.frame.DataFrame'>\n",
            "RangeIndex: 1782 entries, 0 to 1781\n",
            "Columns: 113 entries, Unnamed: 0 to womens_freedom\n",
            "dtypes: float64(108), int64(2), object(3)\n",
            "memory usage: 1.5+ MB\n"
          ],
          "name": "stdout"
        }
      ]
    },
    {
      "cell_type": "code",
      "metadata": {
        "colab": {
          "base_uri": "https://localhost:8080/"
        },
        "id": "MmBJR7txLLJk",
        "outputId": "58ab0aae-46c6-42d5-c808-261ec61d326b"
      },
      "source": [
        "# list of columns in the dataset:\n",
        "list(freedom_df)"
      ],
      "execution_count": 157,
      "outputs": [
        {
          "output_type": "execute_result",
          "data": {
            "text/plain": [
              "['Unnamed: 0',\n",
              " 'year',\n",
              " 'ISO_code',\n",
              " 'countries',\n",
              " 'region',\n",
              " 'hf_score',\n",
              " 'hf_rank',\n",
              " 'hf_quartile',\n",
              " 'pf_rol_procedural',\n",
              " 'pf_rol_civil',\n",
              " 'pf_rol_criminal',\n",
              " 'pf_rol',\n",
              " 'pf_ss_homicide',\n",
              " 'pf_ss_disappearances_disap',\n",
              " 'pf_ss_disappearances_violent',\n",
              " 'pf_ss_disappearances_organized',\n",
              " 'pf_ss_disappearances_fatalities',\n",
              " 'pf_ss_disappearances_injuries',\n",
              " 'pf_ss_disappearances',\n",
              " 'pf_ss_women_fgm',\n",
              " 'pf_ss_women_inheritance',\n",
              " 'pf_ss_women',\n",
              " 'pf_ss',\n",
              " 'pf_movement_domestic',\n",
              " 'pf_movement_foreign',\n",
              " 'pf_movement_women',\n",
              " 'pf_movement',\n",
              " 'pf_religion_freedom',\n",
              " 'pf_religion_repression',\n",
              " 'pf_religion_harassment',\n",
              " 'pf_religion_restrictions',\n",
              " 'pf_religion',\n",
              " 'pf_association_entry',\n",
              " 'pf_association_assembly',\n",
              " 'pf_association_barries',\n",
              " 'pf_association_bans',\n",
              " 'pf_association_estopparties',\n",
              " 'pf_association_opposition',\n",
              " 'pf_association_civilrepression',\n",
              " 'pf_association',\n",
              " 'pf_expression_killed',\n",
              " 'pf_expression_jailed',\n",
              " 'pf_expression_media',\n",
              " 'pf_expression_cable',\n",
              " 'pf_expression_newspapers',\n",
              " 'pf_expression_control',\n",
              " 'pf_expression',\n",
              " 'pf_identity_legal',\n",
              " 'pf_identity_sex_male',\n",
              " 'pf_identity_sex_female',\n",
              " 'pf_identity_sex',\n",
              " 'pf_identity_divorce',\n",
              " 'pf_identity',\n",
              " 'pf_score',\n",
              " 'pf_rank',\n",
              " 'ef_government_consumption',\n",
              " 'ef_government_transfers',\n",
              " 'ef_government_enterprises',\n",
              " 'ef_government_tax_income',\n",
              " 'ef_government_tax_payroll',\n",
              " 'ef_government_tax',\n",
              " 'ef_government_soa',\n",
              " 'ef_government',\n",
              " 'ef_legal_judicial',\n",
              " 'ef_legal_courts',\n",
              " 'ef_legal_protection',\n",
              " 'ef_legal_military',\n",
              " 'ef_legal_integrity',\n",
              " 'ef_legal_enforcement',\n",
              " 'ef_legal_regulatory',\n",
              " 'ef_legal_police',\n",
              " 'ef_legal_gender',\n",
              " 'ef_legal',\n",
              " 'ef_money_growth',\n",
              " 'ef_money_sd',\n",
              " 'ef_money_inflation',\n",
              " 'ef_money_currency',\n",
              " 'ef_money',\n",
              " 'ef_trade_tariffs_revenue',\n",
              " 'ef_trade_tariffs_mean',\n",
              " 'ef_trade_tariffs_sd',\n",
              " 'ef_trade_tariffs',\n",
              " 'ef_trade_regulatory_nontariff',\n",
              " 'ef_trade_regulatory_compliance',\n",
              " 'ef_trade_regulatory',\n",
              " 'ef_trade_black',\n",
              " 'ef_trade_movement_foreign',\n",
              " 'ef_trade_movement_capital',\n",
              " 'ef_trade_movement_visit',\n",
              " 'ef_trade_movement',\n",
              " 'ef_trade',\n",
              " 'ef_regulation_credit_ownership',\n",
              " 'ef_regulation_credit_private',\n",
              " 'ef_regulation_credit_interest',\n",
              " 'ef_regulation_credit',\n",
              " 'ef_regulation_labor_minwage',\n",
              " 'ef_regulation_labor_firing',\n",
              " 'ef_regulation_labor_bargain',\n",
              " 'ef_regulation_labor_hours',\n",
              " 'ef_regulation_labor_dismissal',\n",
              " 'ef_regulation_labor_conscription',\n",
              " 'ef_regulation_labor',\n",
              " 'ef_regulation_business_adm',\n",
              " 'ef_regulation_business_bureaucracy',\n",
              " 'ef_regulation_business_start',\n",
              " 'ef_regulation_business_bribes',\n",
              " 'ef_regulation_business_licensing',\n",
              " 'ef_regulation_business_compliance',\n",
              " 'ef_regulation_business',\n",
              " 'ef_regulation',\n",
              " 'ef_score',\n",
              " 'ef_rank',\n",
              " 'womens_freedom']"
            ]
          },
          "metadata": {
            "tags": []
          },
          "execution_count": 157
        }
      ]
    },
    {
      "cell_type": "markdown",
      "metadata": {
        "id": "JTG_oinz5nla"
      },
      "source": [
        "There are multiple interestingfeatures in this dataset. As a woman, I am personally interested in women's issues. This is the feature I will be trying to predict.\n",
        "\n",
        "+ **pf_ss_women** - This measures the security and safety of women in a given country in a given year\n",
        "\n",
        "\n",
        "For now, I am not sure what features I will use for predicting this value - I will decide that after some further data exploration.\n",
        "\n",
        "For now, I will proceed with data cleaning.\n",
        "    "
      ]
    },
    {
      "cell_type": "code",
      "metadata": {
        "id": "EUZKjw5n5nla",
        "colab": {
          "base_uri": "https://localhost:8080/"
        },
        "outputId": "ae246734-4c07-4560-d7c5-c29cbf4f203b"
      },
      "source": [
        "# Get rid of columns that have more than 10% values missing\n",
        "lim = len(freedom_df) * .9\n",
        "freedom_df.dropna(thresh = lim, axis = 1, inplace=True)\n",
        "# After that, get rid of all invalid entries\n",
        "#  I do not want to populate missing entries with mean/median, since it might affect the model's accuracy\n",
        "#  Since there is planty of entries in the dataset, I chose to get rid of invalid once and then check for the damage\n",
        "freedom_df.dropna(axis = 0, inplace = True)\n",
        "\n",
        "# Chack the damage - not bad!:\n",
        "freedom_df.shape"
      ],
      "execution_count": 159,
      "outputs": [
        {
          "output_type": "execute_result",
          "data": {
            "text/plain": [
              "(1134, 100)"
            ]
          },
          "metadata": {
            "tags": []
          },
          "execution_count": 159
        }
      ]
    },
    {
      "cell_type": "code",
      "metadata": {
        "colab": {
          "base_uri": "https://localhost:8080/"
        },
        "id": "bnKf5dIlMueE",
        "outputId": "7563bf77-81bd-434a-8727-ac5aea282ccf"
      },
      "source": [
        "# make sure the target column was not deleted:\n",
        "print('Yay!' if 'pf_ss_women' in list(freedom_df) else 'Nay :(')"
      ],
      "execution_count": 161,
      "outputs": [
        {
          "output_type": "stream",
          "text": [
            "Yay!\n"
          ],
          "name": "stdout"
        }
      ]
    },
    {
      "cell_type": "markdown",
      "metadata": {
        "id": "dLCIKTpx5nla"
      },
      "source": [
        "Good, Let's move on."
      ]
    },
    {
      "cell_type": "markdown",
      "metadata": {
        "id": "kJw62DEt5nla"
      },
      "source": [
        "## Section 2: Linear Regression\n",
        "\n",
        "First, we want to look at the correlation between pf_ss_women and other features in the dataset to find potential predictors."
      ]
    },
    {
      "cell_type": "code",
      "metadata": {
        "colab": {
          "base_uri": "https://localhost:8080/"
        },
        "id": "EtmncO9b8yUD",
        "outputId": "88038ebf-9b08-48ca-fd00-c8ca11bef2d4"
      },
      "source": [
        "# Sort and display values with strong correlation to womens' safety:\n",
        "\n",
        "target_col = 'pf_ss_women'\n",
        "\n",
        "freedom_corr = freedom_df.corr()[target_col].sort_values()\n",
        "freedom_corr = freedom_corr[abs(freedom_corr) > 0.4]\n",
        "freedom_corr\n"
      ],
      "execution_count": 162,
      "outputs": [
        {
          "output_type": "execute_result",
          "data": {
            "text/plain": [
              "pf_rank                              -0.681282\n",
              "hf_rank                              -0.678271\n",
              "hf_quartile                          -0.643561\n",
              "ef_rank                              -0.548114\n",
              "ef_government_transfers              -0.463612\n",
              "ef_money                              0.406654\n",
              "pf_religion                           0.406987\n",
              "ef_trade_movement_foreign             0.410635\n",
              "pf_association_civilrepression        0.415263\n",
              "ef_regulation_credit                  0.438309\n",
              "ef_regulation_business_bribes         0.439999\n",
              "pf_association                        0.441248\n",
              "pf_expression                         0.443525\n",
              "ef_government_soa                     0.454744\n",
              "ef_government_enterprises             0.458849\n",
              "pf_religion_repression                0.460443\n",
              "pf_association_opposition             0.464427\n",
              "pf_expression_media                   0.466314\n",
              "ef_legal_military                     0.486056\n",
              "ef_trade                              0.489164\n",
              "pf_movement                           0.489996\n",
              "ef_trade_regulatory                   0.499962\n",
              "pf_identity_sex_female                0.500526\n",
              "ef_trade_regulatory_compliance        0.501702\n",
              "pf_rol                                0.506500\n",
              "ef_regulation_business_bureaucracy    0.506838\n",
              "ef_legal_gender                       0.508325\n",
              "ef_legal                              0.518923\n",
              "ef_score                              0.521264\n",
              "pf_movement_women                     0.535093\n",
              "ef_trade_tariffs_mean                 0.548203\n",
              "pf_identity_divorce                   0.558022\n",
              "pf_identity_sex_male                  0.597783\n",
              "pf_identity_sex                       0.600400\n",
              "pf_ss                                 0.631936\n",
              "pf_identity                           0.655124\n",
              "pf_ss_women_fgm                       0.659564\n",
              "hf_score                              0.674843\n",
              "pf_score                              0.694383\n",
              "pf_ss_women_inheritance               0.913489\n",
              "womens_freedom                        0.915265\n",
              "pf_ss_women                           1.000000\n",
              "Name: pf_ss_women, dtype: float64"
            ]
          },
          "metadata": {
            "tags": []
          },
          "execution_count": 162
        }
      ]
    },
    {
      "cell_type": "markdown",
      "metadata": {
        "id": "76UajtAvONjp"
      },
      "source": [
        "After first glance at the above correlations, it seems to me like freedom of religion, religious prosecution and harrasment, and restrictions might be a good predictor of women's safety.\n",
        "\n",
        "+ My hypothesis is that in countries with stricter religious rules, women might be less safe.\n",
        "\n",
        "Beforehand, I checked for multicollinearity between the following four features:\n",
        "1. pf_religion\n",
        "2. pf_religion_repression\n",
        "3. pf_religion_harassment\n",
        "4. pf_religion_restrictions\n",
        "\n",
        "Turned out, they were pairwise linearly dependent, so I only needed pairs of 1-3 or 2-4 to predict pf_ss_women. Since pf_religion_repression had high correlation with pf_ss_women, it was a pair of choise. \n",
        "\n",
        "However, after checking for linearity between that pair and pf_ss_women, the scatter plot for pf_religion_restrictions did not seem linear in the slightest (see below).\n",
        "\n",
        "**TLDR: I ended up choosing a single predictor for pf_ss_women, namely pf_religion_repression**\n"
      ]
    },
    {
      "cell_type": "code",
      "metadata": {
        "id": "2jvtcQZR5nlb",
        "colab": {
          "base_uri": "https://localhost:8080/",
          "height": 286
        },
        "outputId": "b2735eec-24d6-4caf-9621-46b43b242263"
      },
      "source": [
        "\n",
        "# Check for linearity of the independent variables vs the dependent one (pf_ss_women):\n",
        "# independent:\n",
        "# pf_religion - not really linear,\n",
        "# pf_religion_freedom - so so,\n",
        "# pf_religion_repression - so so,\n",
        "# pf_religion_harassment - so so,\n",
        "# pf_religion_restrictions - not linear\n",
        "# dependent:\n",
        "# pf_ss_women\n",
        "# codependency:\n",
        "# pf_religion_freedom vs pf_religion_repression - almost 1-to-1\n",
        "# pf_religion_freedom vs pf_religion_harassment - more diverse\n",
        "# pf_religion_freedom vs pf_religion_restrictions - more diverse\n",
        "# pf_religion_repression vs pf_religion_harassment - a ok for low values, converges at higher values\n",
        "# pf_religion_repression vs pf_religion_restrictions - same as above\n",
        "# pf_religion_harassment vs pf_religion_restrictions - almost 1-to-1\n",
        "# pf_religion_repression vs pf_ss_women\n",
        "\n",
        "independent = 'pf_religion_restrictions'\n",
        "target_col = 'pf_ss_women'\n",
        "plt.scatter(freedom_df[independ], freedom_df[target_col], color='red')\n",
        "plt.xlabel(independent, fontsize=14)\n",
        "plt.ylabel(target_col, fontsize=14)\n",
        "plt.grid(True)\n",
        "plt.show()"
      ],
      "execution_count": 164,
      "outputs": [
        {
          "output_type": "display_data",
          "data": {
            "image/png": "[encoded data removed]",
            "text/plain": [
              "<Figure size 432x288 with 1 Axes>"
            ]
          },
          "metadata": {
            "tags": []
          }
        }
      ]
    },
    {
      "cell_type": "code",
      "metadata": {
        "id": "vSlrkiB5Q51X"
      },
      "source": [
        "# Here is feature extraction using Pandas:\n",
        "X = freedom_df[['pf_religion_repression']]\n",
        "y = freedom_df[['pf_ss_women']]"
      ],
      "execution_count": 165,
      "outputs": []
    },
    {
      "cell_type": "markdown",
      "metadata": {
        "id": "0sClByhv5nlb"
      },
      "source": [
        "Nice and then we use sklearn to create a training set and test set. I will reserve 20% of the dataset for testing."
      ]
    },
    {
      "cell_type": "code",
      "metadata": {
        "id": "MxPjj45q5nlb"
      },
      "source": [
        "# Use sklearn to split our dataset\n",
        "from sklearn.model_selection import train_test_split\n",
        "\n",
        "X_train, X_test, y_train, y_test = train_test_split(X, y, test_size=0.8, random_state=101)"
      ],
      "execution_count": 166,
      "outputs": []
    },
    {
      "cell_type": "markdown",
      "metadata": {
        "id": "bbbqZj_q5nlc"
      },
      "source": [
        "Let's use that training set and fit a Linear Regression to it:"
      ]
    },
    {
      "cell_type": "code",
      "metadata": {
        "id": "3yHA4XBG5nlc",
        "colab": {
          "base_uri": "https://localhost:8080/"
        },
        "outputId": "f9c42e3f-8b5e-4b8f-cad9-23e950f766f3"
      },
      "source": [
        "# Use sklearn to create and Linear Regressor and fit our data to it\n",
        "from sklearn.linear_model import LinearRegression\n",
        "lm = LinearRegression()\n",
        "lm.fit(X_train,y_train)"
      ],
      "execution_count": 167,
      "outputs": [
        {
          "output_type": "execute_result",
          "data": {
            "text/plain": [
              "LinearRegression(copy_X=True, fit_intercept=True, n_jobs=None, normalize=False)"
            ]
          },
          "metadata": {
            "tags": []
          },
          "execution_count": 167
        }
      ]
    },
    {
      "cell_type": "markdown",
      "metadata": {
        "id": "V-I4iGni5nlc"
      },
      "source": [
        "To make sure we're on the right track let's try a couple made up sample inputs and see what our model returns:"
      ]
    },
    {
      "cell_type": "code",
      "metadata": {
        "id": "N4iATgMn5nld",
        "colab": {
          "base_uri": "https://localhost:8080/"
        },
        "outputId": "52f4f4db-cebe-40eb-f14f-44a8a5234dd5"
      },
      "source": [
        "# experiment with the regressor\n",
        "lm.predict([[0.2],[0.5]])"
      ],
      "execution_count": 168,
      "outputs": [
        {
          "output_type": "execute_result",
          "data": {
            "text/plain": [
              "array([[5.21702886],\n",
              "       [5.34683099]])"
            ]
          },
          "metadata": {
            "tags": []
          },
          "execution_count": 168
        }
      ]
    },
    {
      "cell_type": "markdown",
      "metadata": {
        "id": "ZmHW9BXq5nld"
      },
      "source": [
        "We all love data visualizations so let's create a plot of our linear regression and our data. I will have the training data be blue dots, the test data green dots, with a red regression line cutting through the data."
      ]
    },
    {
      "cell_type": "code",
      "metadata": {
        "id": "aEJKOwuh5nld",
        "colab": {
          "base_uri": "https://localhost:8080/",
          "height": 303
        },
        "outputId": "b45ebe1c-b80b-450d-8597-5c641de2a0e2"
      },
      "source": [
        "# Use matplotlib (or other visualization lib) to create a scatter plot and the regression to create a regression line\n",
        "\n",
        "# plots\n",
        "plt.scatter(freedom_df['pf_religion_repression'], freedom_df['pf_ss_women'], color='red')\n",
        "plt.plot(X, lm.predict(X), color='blue')\n",
        "plt.title('pf_religion_repression Vs pf_ss_women and linear regression', fontsize=14)\n",
        "plt.xlabel('pf_religion_repression', fontsize=14)\n",
        "plt.ylabel('pf_ss_women', fontsize=14)\n",
        "plt.grid(True)\n",
        "plt.show()"
      ],
      "execution_count": 169,
      "outputs": [
        {
          "output_type": "display_data",
          "data": {
            "image/png": "[encoded data removed]",
            "text/plain": [
              "<Figure size 432x288 with 1 Axes>"
            ]
          },
          "metadata": {
            "tags": []
          }
        }
      ]
    },
    {
      "cell_type": "code",
      "metadata": {
        "id": "wAuW4edN5nle",
        "colab": {
          "base_uri": "https://localhost:8080/"
        },
        "outputId": "e42da2db-999f-441c-9ea6-71684d00d089"
      },
      "source": [
        "# Use linear regression model to report accuracy/error rate on the test set\n",
        "lm.score(X_test, y_test)"
      ],
      "execution_count": 172,
      "outputs": [
        {
          "output_type": "execute_result",
          "data": {
            "text/plain": [
              "0.2192914692472947"
            ]
          },
          "metadata": {
            "tags": []
          },
          "execution_count": 172
        }
      ]
    },
    {
      "cell_type": "markdown",
      "metadata": {
        "id": "Nl1icb8i5nlf"
      },
      "source": [
        "Good not great. \n",
        "\n",
        "Looking at the scatter plot again, maybe the data is not that linear after all.\n",
        "\n",
        "**My second hypothesis was to predict women's safety based on how much personal freedom they enjoy.**"
      ]
    },
    {
      "cell_type": "code",
      "metadata": {
        "id": "NhooivOe5nlf"
      },
      "source": [
        "# this time I will try to predict women's safety and security based on women's freedom:\n",
        "X = freedom_df[['womens_freedom']]\n",
        "y = freedom_df[['pf_ss_women']]\n"
      ],
      "execution_count": 174,
      "outputs": []
    },
    {
      "cell_type": "code",
      "metadata": {
        "colab": {
          "base_uri": "https://localhost:8080/"
        },
        "id": "yf997aWKtGub",
        "outputId": "b8f1f131-c518-4caf-d592-906654ddaae4"
      },
      "source": [
        "# divide the dataset and fit the regressor:\n",
        "X_train, X_test, y_train, y_test = train_test_split(X, y, test_size=0.8, random_state=99)\n",
        "lm = LinearRegression()\n",
        "lm.fit(X_train,y_train)\n"
      ],
      "execution_count": 175,
      "outputs": [
        {
          "output_type": "execute_result",
          "data": {
            "text/plain": [
              "LinearRegression(copy_X=True, fit_intercept=True, n_jobs=None, normalize=False)"
            ]
          },
          "metadata": {
            "tags": []
          },
          "execution_count": 175
        }
      ]
    },
    {
      "cell_type": "code",
      "metadata": {
        "colab": {
          "base_uri": "https://localhost:8080/"
        },
        "id": "KGIiHOIttPnp",
        "outputId": "550e0779-0088-42c8-d139-55da2f517e65"
      },
      "source": [
        "# this time the score is much better:\n",
        "lm.score(X_test, y_test)"
      ],
      "execution_count": 178,
      "outputs": [
        {
          "output_type": "execute_result",
          "data": {
            "text/plain": [
              "0.8406417328988989"
            ]
          },
          "metadata": {
            "tags": []
          },
          "execution_count": 178
        }
      ]
    },
    {
      "cell_type": "code",
      "metadata": {
        "colab": {
          "base_uri": "https://localhost:8080/",
          "height": 303
        },
        "id": "sUbLoreN1aOn",
        "outputId": "791dcebc-1cdc-47bb-b325-85146e8eb5fa"
      },
      "source": [
        "# plots\n",
        "plt.scatter(freedom_df['womens_freedom'], freedom_df['pf_ss_women'], color='red')\n",
        "plt.plot(X, lm.predict(X), color='blue')\n",
        "plt.title('womens_freedom Vs pf_ss_women and linear regression', fontsize=14)\n",
        "plt.xlabel('womens_freedom', fontsize=14)\n",
        "plt.ylabel('pf_ss_women', fontsize=14)\n",
        "plt.grid(True)\n",
        "plt.show()\n"
      ],
      "execution_count": 179,
      "outputs": [
        {
          "output_type": "display_data",
          "data": {
            "image/png": "[encoded data removed]",
            "text/plain": [
              "<Figure size 432x288 with 1 Axes>"
            ]
          },
          "metadata": {
            "tags": []
          }
        }
      ]
    },
    {
      "cell_type": "code",
      "metadata": {
        "colab": {
          "base_uri": "https://localhost:8080/"
        },
        "id": "cLB_tH8rtTHU",
        "outputId": "200931ba-b2f0-41ed-aa1f-48121b898cb2"
      },
      "source": [
        "# Cross validation\n",
        "\n",
        "from sklearn.model_selection import cross_val_score, cross_val_predict\n",
        "from sklearn import metrics\n",
        "\n",
        "scores = cross_val_score(lm, X, y, cv=6)\n",
        "print('Cross-validated scores:', scores)"
      ],
      "execution_count": 180,
      "outputs": [
        {
          "output_type": "stream",
          "text": [
            "Cross-validated scores: [0.71294903 0.93933435 0.85254449 0.76626196 0.82908834 0.77958356]\n"
          ],
          "name": "stdout"
        }
      ]
    },
    {
      "cell_type": "markdown",
      "metadata": {
        "id": "aN9aTU4p5nlg"
      },
      "source": [
        "Based on the results, my second hypothesis turned out to be much more accurate.\n",
        "It makes sense that in the countries with more freedom for women, they are generally safer."
      ]
    },
    {
      "cell_type": "markdown",
      "metadata": {
        "id": "eGKhxfQ-5nlg"
      },
      "source": [
        "## Section 3: Prepping the classification dataset\n",
        "\n",
        "+ In this section, I will try to classify NASA-observed asteroids as hazardous or non-hazardous."
      ]
    },
    {
      "cell_type": "code",
      "metadata": {
        "colab": {
          "base_uri": "https://localhost:8080/",
          "height": 360
        },
        "id": "dHEpk_pAwYvP",
        "outputId": "f13787f6-d693-4c67-d43c-45399b9c0782"
      },
      "source": [
        "nasa_df = pd.read_csv('https://raw.githubusercontent.com/timashana/csc448hw3/main/nasa.csv')\n",
        "\n",
        "nasa_df.head()"
      ],
      "execution_count": 181,
      "outputs": [
        {
          "output_type": "execute_result",
          "data": {
            "text/html": [
              "<div>\n",
              "<style scoped>\n",
              "    .dataframe tbody tr th:only-of-type {\n",
              "        vertical-align: middle;\n",
              "    }\n",
              "\n",
              "    .dataframe tbody tr th {\n",
              "        vertical-align: top;\n",
              "    }\n",
              "\n",
              "    .dataframe thead th {\n",
              "        text-align: right;\n",
              "    }\n",
              "</style>\n",
              "<table border=\"1\" class=\"dataframe\">\n",
              "  <thead>\n",
              "    <tr style=\"text-align: right;\">\n",
              "      <th></th>\n",
              "      <th>Neo Reference ID</th>\n",
              "      <th>Name</th>\n",
              "      <th>Absolute Magnitude</th>\n",
              "      <th>Est Dia in KM(min)</th>\n",
              "      <th>Est Dia in KM(max)</th>\n",
              "      <th>Est Dia in M(min)</th>\n",
              "      <th>Est Dia in M(max)</th>\n",
              "      <th>Est Dia in Miles(min)</th>\n",
              "      <th>Est Dia in Miles(max)</th>\n",
              "      <th>Est Dia in Feet(min)</th>\n",
              "      <th>Est Dia in Feet(max)</th>\n",
              "      <th>Close Approach Date</th>\n",
              "      <th>Epoch Date Close Approach</th>\n",
              "      <th>Relative Velocity km per sec</th>\n",
              "      <th>Relative Velocity km per hr</th>\n",
              "      <th>Miles per hour</th>\n",
              "      <th>Miss Dist.(Astronomical)</th>\n",
              "      <th>Miss Dist.(lunar)</th>\n",
              "      <th>Miss Dist.(kilometers)</th>\n",
              "      <th>Miss Dist.(miles)</th>\n",
              "      <th>Orbiting Body</th>\n",
              "      <th>Orbit ID</th>\n",
              "      <th>Orbit Determination Date</th>\n",
              "      <th>Orbit Uncertainity</th>\n",
              "      <th>Minimum Orbit Intersection</th>\n",
              "      <th>Jupiter Tisserand Invariant</th>\n",
              "      <th>Epoch Osculation</th>\n",
              "      <th>Eccentricity</th>\n",
              "      <th>Semi Major Axis</th>\n",
              "      <th>Inclination</th>\n",
              "      <th>Asc Node Longitude</th>\n",
              "      <th>Orbital Period</th>\n",
              "      <th>Perihelion Distance</th>\n",
              "      <th>Perihelion Arg</th>\n",
              "      <th>Aphelion Dist</th>\n",
              "      <th>Perihelion Time</th>\n",
              "      <th>Mean Anomaly</th>\n",
              "      <th>Mean Motion</th>\n",
              "      <th>Equinox</th>\n",
              "      <th>Hazardous</th>\n",
              "    </tr>\n",
              "  </thead>\n",
              "  <tbody>\n",
              "    <tr>\n",
              "      <th>0</th>\n",
              "      <td>3703080</td>\n",
              "      <td>3703080</td>\n",
              "      <td>21.6</td>\n",
              "      <td>0.127220</td>\n",
              "      <td>0.284472</td>\n",
              "      <td>127.219879</td>\n",
              "      <td>284.472297</td>\n",
              "      <td>0.079051</td>\n",
              "      <td>0.176763</td>\n",
              "      <td>417.388066</td>\n",
              "      <td>933.308089</td>\n",
              "      <td>1995-01-01</td>\n",
              "      <td>788947200000</td>\n",
              "      <td>6.115834</td>\n",
              "      <td>22017.003799</td>\n",
              "      <td>13680.509944</td>\n",
              "      <td>0.419483</td>\n",
              "      <td>163.178711</td>\n",
              "      <td>62753692.0</td>\n",
              "      <td>38993336.0</td>\n",
              "      <td>Earth</td>\n",
              "      <td>17</td>\n",
              "      <td>2017-04-06 08:36:37</td>\n",
              "      <td>5</td>\n",
              "      <td>0.025282</td>\n",
              "      <td>4.634</td>\n",
              "      <td>2458000.5</td>\n",
              "      <td>0.425549</td>\n",
              "      <td>1.407011</td>\n",
              "      <td>6.025981</td>\n",
              "      <td>314.373913</td>\n",
              "      <td>609.599786</td>\n",
              "      <td>0.808259</td>\n",
              "      <td>57.257470</td>\n",
              "      <td>2.005764</td>\n",
              "      <td>2.458162e+06</td>\n",
              "      <td>264.837533</td>\n",
              "      <td>0.590551</td>\n",
              "      <td>J2000</td>\n",
              "      <td>True</td>\n",
              "    </tr>\n",
              "    <tr>\n",
              "      <th>1</th>\n",
              "      <td>3723955</td>\n",
              "      <td>3723955</td>\n",
              "      <td>21.3</td>\n",
              "      <td>0.146068</td>\n",
              "      <td>0.326618</td>\n",
              "      <td>146.067964</td>\n",
              "      <td>326.617897</td>\n",
              "      <td>0.090762</td>\n",
              "      <td>0.202951</td>\n",
              "      <td>479.225620</td>\n",
              "      <td>1071.581063</td>\n",
              "      <td>1995-01-01</td>\n",
              "      <td>788947200000</td>\n",
              "      <td>18.113985</td>\n",
              "      <td>65210.346095</td>\n",
              "      <td>40519.173105</td>\n",
              "      <td>0.383014</td>\n",
              "      <td>148.992630</td>\n",
              "      <td>57298148.0</td>\n",
              "      <td>35603420.0</td>\n",
              "      <td>Earth</td>\n",
              "      <td>21</td>\n",
              "      <td>2017-04-06 08:32:49</td>\n",
              "      <td>3</td>\n",
              "      <td>0.186935</td>\n",
              "      <td>5.457</td>\n",
              "      <td>2458000.5</td>\n",
              "      <td>0.351674</td>\n",
              "      <td>1.107776</td>\n",
              "      <td>28.412996</td>\n",
              "      <td>136.717242</td>\n",
              "      <td>425.869294</td>\n",
              "      <td>0.718200</td>\n",
              "      <td>313.091975</td>\n",
              "      <td>1.497352</td>\n",
              "      <td>2.457795e+06</td>\n",
              "      <td>173.741112</td>\n",
              "      <td>0.845330</td>\n",
              "      <td>J2000</td>\n",
              "      <td>False</td>\n",
              "    </tr>\n",
              "    <tr>\n",
              "      <th>2</th>\n",
              "      <td>2446862</td>\n",
              "      <td>2446862</td>\n",
              "      <td>20.3</td>\n",
              "      <td>0.231502</td>\n",
              "      <td>0.517654</td>\n",
              "      <td>231.502122</td>\n",
              "      <td>517.654482</td>\n",
              "      <td>0.143849</td>\n",
              "      <td>0.321655</td>\n",
              "      <td>759.521423</td>\n",
              "      <td>1698.341531</td>\n",
              "      <td>1995-01-08</td>\n",
              "      <td>789552000000</td>\n",
              "      <td>7.590711</td>\n",
              "      <td>27326.560182</td>\n",
              "      <td>16979.661798</td>\n",
              "      <td>0.050956</td>\n",
              "      <td>19.821890</td>\n",
              "      <td>7622911.5</td>\n",
              "      <td>4736657.5</td>\n",
              "      <td>Earth</td>\n",
              "      <td>22</td>\n",
              "      <td>2017-04-06 09:20:19</td>\n",
              "      <td>0</td>\n",
              "      <td>0.043058</td>\n",
              "      <td>4.557</td>\n",
              "      <td>2458000.5</td>\n",
              "      <td>0.348248</td>\n",
              "      <td>1.458824</td>\n",
              "      <td>4.237961</td>\n",
              "      <td>259.475979</td>\n",
              "      <td>643.580228</td>\n",
              "      <td>0.950791</td>\n",
              "      <td>248.415038</td>\n",
              "      <td>1.966857</td>\n",
              "      <td>2.458120e+06</td>\n",
              "      <td>292.893654</td>\n",
              "      <td>0.559371</td>\n",
              "      <td>J2000</td>\n",
              "      <td>True</td>\n",
              "    </tr>\n",
              "    <tr>\n",
              "      <th>3</th>\n",
              "      <td>3092506</td>\n",
              "      <td>3092506</td>\n",
              "      <td>27.4</td>\n",
              "      <td>0.008801</td>\n",
              "      <td>0.019681</td>\n",
              "      <td>8.801465</td>\n",
              "      <td>19.680675</td>\n",
              "      <td>0.005469</td>\n",
              "      <td>0.012229</td>\n",
              "      <td>28.876199</td>\n",
              "      <td>64.569144</td>\n",
              "      <td>1995-01-15</td>\n",
              "      <td>790156800000</td>\n",
              "      <td>11.173874</td>\n",
              "      <td>40225.948191</td>\n",
              "      <td>24994.839864</td>\n",
              "      <td>0.285322</td>\n",
              "      <td>110.990387</td>\n",
              "      <td>42683616.0</td>\n",
              "      <td>26522368.0</td>\n",
              "      <td>Earth</td>\n",
              "      <td>7</td>\n",
              "      <td>2017-04-06 09:15:49</td>\n",
              "      <td>6</td>\n",
              "      <td>0.005512</td>\n",
              "      <td>5.093</td>\n",
              "      <td>2458000.5</td>\n",
              "      <td>0.216578</td>\n",
              "      <td>1.255903</td>\n",
              "      <td>7.905894</td>\n",
              "      <td>57.173266</td>\n",
              "      <td>514.082140</td>\n",
              "      <td>0.983902</td>\n",
              "      <td>18.707701</td>\n",
              "      <td>1.527904</td>\n",
              "      <td>2.457902e+06</td>\n",
              "      <td>68.741007</td>\n",
              "      <td>0.700277</td>\n",
              "      <td>J2000</td>\n",
              "      <td>False</td>\n",
              "    </tr>\n",
              "    <tr>\n",
              "      <th>4</th>\n",
              "      <td>3514799</td>\n",
              "      <td>3514799</td>\n",
              "      <td>21.6</td>\n",
              "      <td>0.127220</td>\n",
              "      <td>0.284472</td>\n",
              "      <td>127.219879</td>\n",
              "      <td>284.472297</td>\n",
              "      <td>0.079051</td>\n",
              "      <td>0.176763</td>\n",
              "      <td>417.388066</td>\n",
              "      <td>933.308089</td>\n",
              "      <td>1995-01-15</td>\n",
              "      <td>790156800000</td>\n",
              "      <td>9.840831</td>\n",
              "      <td>35426.991794</td>\n",
              "      <td>22012.954985</td>\n",
              "      <td>0.407832</td>\n",
              "      <td>158.646713</td>\n",
              "      <td>61010824.0</td>\n",
              "      <td>37910368.0</td>\n",
              "      <td>Earth</td>\n",
              "      <td>25</td>\n",
              "      <td>2017-04-06 08:57:58</td>\n",
              "      <td>1</td>\n",
              "      <td>0.034798</td>\n",
              "      <td>5.154</td>\n",
              "      <td>2458000.5</td>\n",
              "      <td>0.210448</td>\n",
              "      <td>1.225615</td>\n",
              "      <td>16.793382</td>\n",
              "      <td>84.629307</td>\n",
              "      <td>495.597821</td>\n",
              "      <td>0.967687</td>\n",
              "      <td>158.263596</td>\n",
              "      <td>1.483543</td>\n",
              "      <td>2.457814e+06</td>\n",
              "      <td>135.142133</td>\n",
              "      <td>0.726395</td>\n",
              "      <td>J2000</td>\n",
              "      <td>True</td>\n",
              "    </tr>\n",
              "  </tbody>\n",
              "</table>\n",
              "</div>"
            ],
            "text/plain": [
              "   Neo Reference ID     Name  ...  Equinox  Hazardous\n",
              "0           3703080  3703080  ...    J2000       True\n",
              "1           3723955  3723955  ...    J2000      False\n",
              "2           2446862  2446862  ...    J2000       True\n",
              "3           3092506  3092506  ...    J2000      False\n",
              "4           3514799  3514799  ...    J2000       True\n",
              "\n",
              "[5 rows x 40 columns]"
            ]
          },
          "metadata": {
            "tags": []
          },
          "execution_count": 181
        }
      ]
    },
    {
      "cell_type": "code",
      "metadata": {
        "colab": {
          "base_uri": "https://localhost:8080/"
        },
        "id": "8qNZTRyXxEUp",
        "outputId": "534226b9-c21c-49ec-ebe8-b9d6f0192ffe"
      },
      "source": [
        "nasa_df.info()"
      ],
      "execution_count": 185,
      "outputs": [
        {
          "output_type": "stream",
          "text": [
            "<class 'pandas.core.frame.DataFrame'>\n",
            "Int64Index: 4687 entries, 0 to 4686\n",
            "Data columns (total 40 columns):\n",
            " #   Column                        Non-Null Count  Dtype  \n",
            "---  ------                        --------------  -----  \n",
            " 0   Neo Reference ID              4687 non-null   int64  \n",
            " 1   Name                          4687 non-null   int64  \n",
            " 2   Absolute Magnitude            4687 non-null   float64\n",
            " 3   Est Dia in KM(min)            4687 non-null   float64\n",
            " 4   Est Dia in KM(max)            4687 non-null   float64\n",
            " 5   Est Dia in M(min)             4687 non-null   float64\n",
            " 6   Est Dia in M(max)             4687 non-null   float64\n",
            " 7   Est Dia in Miles(min)         4687 non-null   float64\n",
            " 8   Est Dia in Miles(max)         4687 non-null   float64\n",
            " 9   Est Dia in Feet(min)          4687 non-null   float64\n",
            " 10  Est Dia in Feet(max)          4687 non-null   float64\n",
            " 11  Close Approach Date           4687 non-null   object \n",
            " 12  Epoch Date Close Approach     4687 non-null   int64  \n",
            " 13  Relative Velocity km per sec  4687 non-null   float64\n",
            " 14  Relative Velocity km per hr   4687 non-null   float64\n",
            " 15  Miles per hour                4687 non-null   float64\n",
            " 16  Miss Dist.(Astronomical)      4687 non-null   float64\n",
            " 17  Miss Dist.(lunar)             4687 non-null   float64\n",
            " 18  Miss Dist.(kilometers)        4687 non-null   float64\n",
            " 19  Miss Dist.(miles)             4687 non-null   float64\n",
            " 20  Orbiting Body                 4687 non-null   object \n",
            " 21  Orbit ID                      4687 non-null   int64  \n",
            " 22  Orbit Determination Date      4687 non-null   object \n",
            " 23  Orbit Uncertainity            4687 non-null   int64  \n",
            " 24  Minimum Orbit Intersection    4687 non-null   float64\n",
            " 25  Jupiter Tisserand Invariant   4687 non-null   float64\n",
            " 26  Epoch Osculation              4687 non-null   float64\n",
            " 27  Eccentricity                  4687 non-null   float64\n",
            " 28  Semi Major Axis               4687 non-null   float64\n",
            " 29  Inclination                   4687 non-null   float64\n",
            " 30  Asc Node Longitude            4687 non-null   float64\n",
            " 31  Orbital Period                4687 non-null   float64\n",
            " 32  Perihelion Distance           4687 non-null   float64\n",
            " 33  Perihelion Arg                4687 non-null   float64\n",
            " 34  Aphelion Dist                 4687 non-null   float64\n",
            " 35  Perihelion Time               4687 non-null   float64\n",
            " 36  Mean Anomaly                  4687 non-null   float64\n",
            " 37  Mean Motion                   4687 non-null   float64\n",
            " 38  Equinox                       4687 non-null   object \n",
            " 39  Hazardous                     4687 non-null   bool   \n",
            "dtypes: bool(1), float64(30), int64(5), object(4)\n",
            "memory usage: 1.4+ MB\n"
          ],
          "name": "stdout"
        }
      ]
    },
    {
      "cell_type": "markdown",
      "metadata": {
        "id": "4rIfSo1TSi4P"
      },
      "source": [
        "From the info above, it looks like all data is clean!"
      ]
    },
    {
      "cell_type": "code",
      "metadata": {
        "id": "fQbYmw1U5nlh",
        "colab": {
          "base_uri": "https://localhost:8080/",
          "height": 360
        },
        "outputId": "6b4cca23-b8c5-4d67-fbac-cec57f4677b6"
      },
      "source": [
        "# Use pandas to map Hazardous Boolean category to ints\n",
        "nasa_df.Hazardous = nasa_df.Hazardous.astype(int)\n",
        "nasa_df.head()"
      ],
      "execution_count": 187,
      "outputs": [
        {
          "output_type": "execute_result",
          "data": {
            "text/html": [
              "<div>\n",
              "<style scoped>\n",
              "    .dataframe tbody tr th:only-of-type {\n",
              "        vertical-align: middle;\n",
              "    }\n",
              "\n",
              "    .dataframe tbody tr th {\n",
              "        vertical-align: top;\n",
              "    }\n",
              "\n",
              "    .dataframe thead th {\n",
              "        text-align: right;\n",
              "    }\n",
              "</style>\n",
              "<table border=\"1\" class=\"dataframe\">\n",
              "  <thead>\n",
              "    <tr style=\"text-align: right;\">\n",
              "      <th></th>\n",
              "      <th>Neo Reference ID</th>\n",
              "      <th>Name</th>\n",
              "      <th>Absolute Magnitude</th>\n",
              "      <th>Est Dia in KM(min)</th>\n",
              "      <th>Est Dia in KM(max)</th>\n",
              "      <th>Est Dia in M(min)</th>\n",
              "      <th>Est Dia in M(max)</th>\n",
              "      <th>Est Dia in Miles(min)</th>\n",
              "      <th>Est Dia in Miles(max)</th>\n",
              "      <th>Est Dia in Feet(min)</th>\n",
              "      <th>Est Dia in Feet(max)</th>\n",
              "      <th>Close Approach Date</th>\n",
              "      <th>Epoch Date Close Approach</th>\n",
              "      <th>Relative Velocity km per sec</th>\n",
              "      <th>Relative Velocity km per hr</th>\n",
              "      <th>Miles per hour</th>\n",
              "      <th>Miss Dist.(Astronomical)</th>\n",
              "      <th>Miss Dist.(lunar)</th>\n",
              "      <th>Miss Dist.(kilometers)</th>\n",
              "      <th>Miss Dist.(miles)</th>\n",
              "      <th>Orbiting Body</th>\n",
              "      <th>Orbit ID</th>\n",
              "      <th>Orbit Determination Date</th>\n",
              "      <th>Orbit Uncertainity</th>\n",
              "      <th>Minimum Orbit Intersection</th>\n",
              "      <th>Jupiter Tisserand Invariant</th>\n",
              "      <th>Epoch Osculation</th>\n",
              "      <th>Eccentricity</th>\n",
              "      <th>Semi Major Axis</th>\n",
              "      <th>Inclination</th>\n",
              "      <th>Asc Node Longitude</th>\n",
              "      <th>Orbital Period</th>\n",
              "      <th>Perihelion Distance</th>\n",
              "      <th>Perihelion Arg</th>\n",
              "      <th>Aphelion Dist</th>\n",
              "      <th>Perihelion Time</th>\n",
              "      <th>Mean Anomaly</th>\n",
              "      <th>Mean Motion</th>\n",
              "      <th>Equinox</th>\n",
              "      <th>Hazardous</th>\n",
              "    </tr>\n",
              "  </thead>\n",
              "  <tbody>\n",
              "    <tr>\n",
              "      <th>0</th>\n",
              "      <td>3703080</td>\n",
              "      <td>3703080</td>\n",
              "      <td>21.6</td>\n",
              "      <td>0.127220</td>\n",
              "      <td>0.284472</td>\n",
              "      <td>127.219879</td>\n",
              "      <td>284.472297</td>\n",
              "      <td>0.079051</td>\n",
              "      <td>0.176763</td>\n",
              "      <td>417.388066</td>\n",
              "      <td>933.308089</td>\n",
              "      <td>1995-01-01</td>\n",
              "      <td>788947200000</td>\n",
              "      <td>6.115834</td>\n",
              "      <td>22017.003799</td>\n",
              "      <td>13680.509944</td>\n",
              "      <td>0.419483</td>\n",
              "      <td>163.178711</td>\n",
              "      <td>62753692.0</td>\n",
              "      <td>38993336.0</td>\n",
              "      <td>Earth</td>\n",
              "      <td>17</td>\n",
              "      <td>2017-04-06 08:36:37</td>\n",
              "      <td>5</td>\n",
              "      <td>0.025282</td>\n",
              "      <td>4.634</td>\n",
              "      <td>2458000.5</td>\n",
              "      <td>0.425549</td>\n",
              "      <td>1.407011</td>\n",
              "      <td>6.025981</td>\n",
              "      <td>314.373913</td>\n",
              "      <td>609.599786</td>\n",
              "      <td>0.808259</td>\n",
              "      <td>57.257470</td>\n",
              "      <td>2.005764</td>\n",
              "      <td>2.458162e+06</td>\n",
              "      <td>264.837533</td>\n",
              "      <td>0.590551</td>\n",
              "      <td>J2000</td>\n",
              "      <td>1</td>\n",
              "    </tr>\n",
              "    <tr>\n",
              "      <th>1</th>\n",
              "      <td>3723955</td>\n",
              "      <td>3723955</td>\n",
              "      <td>21.3</td>\n",
              "      <td>0.146068</td>\n",
              "      <td>0.326618</td>\n",
              "      <td>146.067964</td>\n",
              "      <td>326.617897</td>\n",
              "      <td>0.090762</td>\n",
              "      <td>0.202951</td>\n",
              "      <td>479.225620</td>\n",
              "      <td>1071.581063</td>\n",
              "      <td>1995-01-01</td>\n",
              "      <td>788947200000</td>\n",
              "      <td>18.113985</td>\n",
              "      <td>65210.346095</td>\n",
              "      <td>40519.173105</td>\n",
              "      <td>0.383014</td>\n",
              "      <td>148.992630</td>\n",
              "      <td>57298148.0</td>\n",
              "      <td>35603420.0</td>\n",
              "      <td>Earth</td>\n",
              "      <td>21</td>\n",
              "      <td>2017-04-06 08:32:49</td>\n",
              "      <td>3</td>\n",
              "      <td>0.186935</td>\n",
              "      <td>5.457</td>\n",
              "      <td>2458000.5</td>\n",
              "      <td>0.351674</td>\n",
              "      <td>1.107776</td>\n",
              "      <td>28.412996</td>\n",
              "      <td>136.717242</td>\n",
              "      <td>425.869294</td>\n",
              "      <td>0.718200</td>\n",
              "      <td>313.091975</td>\n",
              "      <td>1.497352</td>\n",
              "      <td>2.457795e+06</td>\n",
              "      <td>173.741112</td>\n",
              "      <td>0.845330</td>\n",
              "      <td>J2000</td>\n",
              "      <td>0</td>\n",
              "    </tr>\n",
              "    <tr>\n",
              "      <th>2</th>\n",
              "      <td>2446862</td>\n",
              "      <td>2446862</td>\n",
              "      <td>20.3</td>\n",
              "      <td>0.231502</td>\n",
              "      <td>0.517654</td>\n",
              "      <td>231.502122</td>\n",
              "      <td>517.654482</td>\n",
              "      <td>0.143849</td>\n",
              "      <td>0.321655</td>\n",
              "      <td>759.521423</td>\n",
              "      <td>1698.341531</td>\n",
              "      <td>1995-01-08</td>\n",
              "      <td>789552000000</td>\n",
              "      <td>7.590711</td>\n",
              "      <td>27326.560182</td>\n",
              "      <td>16979.661798</td>\n",
              "      <td>0.050956</td>\n",
              "      <td>19.821890</td>\n",
              "      <td>7622911.5</td>\n",
              "      <td>4736657.5</td>\n",
              "      <td>Earth</td>\n",
              "      <td>22</td>\n",
              "      <td>2017-04-06 09:20:19</td>\n",
              "      <td>0</td>\n",
              "      <td>0.043058</td>\n",
              "      <td>4.557</td>\n",
              "      <td>2458000.5</td>\n",
              "      <td>0.348248</td>\n",
              "      <td>1.458824</td>\n",
              "      <td>4.237961</td>\n",
              "      <td>259.475979</td>\n",
              "      <td>643.580228</td>\n",
              "      <td>0.950791</td>\n",
              "      <td>248.415038</td>\n",
              "      <td>1.966857</td>\n",
              "      <td>2.458120e+06</td>\n",
              "      <td>292.893654</td>\n",
              "      <td>0.559371</td>\n",
              "      <td>J2000</td>\n",
              "      <td>1</td>\n",
              "    </tr>\n",
              "    <tr>\n",
              "      <th>3</th>\n",
              "      <td>3092506</td>\n",
              "      <td>3092506</td>\n",
              "      <td>27.4</td>\n",
              "      <td>0.008801</td>\n",
              "      <td>0.019681</td>\n",
              "      <td>8.801465</td>\n",
              "      <td>19.680675</td>\n",
              "      <td>0.005469</td>\n",
              "      <td>0.012229</td>\n",
              "      <td>28.876199</td>\n",
              "      <td>64.569144</td>\n",
              "      <td>1995-01-15</td>\n",
              "      <td>790156800000</td>\n",
              "      <td>11.173874</td>\n",
              "      <td>40225.948191</td>\n",
              "      <td>24994.839864</td>\n",
              "      <td>0.285322</td>\n",
              "      <td>110.990387</td>\n",
              "      <td>42683616.0</td>\n",
              "      <td>26522368.0</td>\n",
              "      <td>Earth</td>\n",
              "      <td>7</td>\n",
              "      <td>2017-04-06 09:15:49</td>\n",
              "      <td>6</td>\n",
              "      <td>0.005512</td>\n",
              "      <td>5.093</td>\n",
              "      <td>2458000.5</td>\n",
              "      <td>0.216578</td>\n",
              "      <td>1.255903</td>\n",
              "      <td>7.905894</td>\n",
              "      <td>57.173266</td>\n",
              "      <td>514.082140</td>\n",
              "      <td>0.983902</td>\n",
              "      <td>18.707701</td>\n",
              "      <td>1.527904</td>\n",
              "      <td>2.457902e+06</td>\n",
              "      <td>68.741007</td>\n",
              "      <td>0.700277</td>\n",
              "      <td>J2000</td>\n",
              "      <td>0</td>\n",
              "    </tr>\n",
              "    <tr>\n",
              "      <th>4</th>\n",
              "      <td>3514799</td>\n",
              "      <td>3514799</td>\n",
              "      <td>21.6</td>\n",
              "      <td>0.127220</td>\n",
              "      <td>0.284472</td>\n",
              "      <td>127.219879</td>\n",
              "      <td>284.472297</td>\n",
              "      <td>0.079051</td>\n",
              "      <td>0.176763</td>\n",
              "      <td>417.388066</td>\n",
              "      <td>933.308089</td>\n",
              "      <td>1995-01-15</td>\n",
              "      <td>790156800000</td>\n",
              "      <td>9.840831</td>\n",
              "      <td>35426.991794</td>\n",
              "      <td>22012.954985</td>\n",
              "      <td>0.407832</td>\n",
              "      <td>158.646713</td>\n",
              "      <td>61010824.0</td>\n",
              "      <td>37910368.0</td>\n",
              "      <td>Earth</td>\n",
              "      <td>25</td>\n",
              "      <td>2017-04-06 08:57:58</td>\n",
              "      <td>1</td>\n",
              "      <td>0.034798</td>\n",
              "      <td>5.154</td>\n",
              "      <td>2458000.5</td>\n",
              "      <td>0.210448</td>\n",
              "      <td>1.225615</td>\n",
              "      <td>16.793382</td>\n",
              "      <td>84.629307</td>\n",
              "      <td>495.597821</td>\n",
              "      <td>0.967687</td>\n",
              "      <td>158.263596</td>\n",
              "      <td>1.483543</td>\n",
              "      <td>2.457814e+06</td>\n",
              "      <td>135.142133</td>\n",
              "      <td>0.726395</td>\n",
              "      <td>J2000</td>\n",
              "      <td>1</td>\n",
              "    </tr>\n",
              "  </tbody>\n",
              "</table>\n",
              "</div>"
            ],
            "text/plain": [
              "   Neo Reference ID     Name  ...  Equinox  Hazardous\n",
              "0           3703080  3703080  ...    J2000          1\n",
              "1           3723955  3723955  ...    J2000          0\n",
              "2           2446862  2446862  ...    J2000          1\n",
              "3           3092506  3092506  ...    J2000          0\n",
              "4           3514799  3514799  ...    J2000          1\n",
              "\n",
              "[5 rows x 40 columns]"
            ]
          },
          "metadata": {
            "tags": []
          },
          "execution_count": 187
        }
      ]
    },
    {
      "cell_type": "markdown",
      "metadata": {
        "id": "e0_Clvro5nlh"
      },
      "source": [
        "Here's a summary of the data mapping:\n",
        "\n",
        "0 = Non-Hazardous\n",
        "\n",
        "1 = Hazardous\n"
      ]
    },
    {
      "cell_type": "markdown",
      "metadata": {
        "id": "BDu3Jq2n5nli"
      },
      "source": [
        "## Section 4: Classification with a Neural Network (or classifier of choice)\n",
        "\n",
        "In this section I'm going to find 3 best features and use them to predict if an asteroid is hazardous.\n",
        "\n",
        "Once again let's split out our data into a training and test set. I will hold 20% of the data for testing."
      ]
    },
    {
      "cell_type": "code",
      "metadata": {
        "colab": {
          "base_uri": "https://localhost:8080/"
        },
        "id": "rNElfJL02wcG",
        "outputId": "5c050291-5ed5-4d04-9730-c96e0600aed6"
      },
      "source": [
        "# see correlation:\n",
        "nasa_df.corr()['Hazardous']\n",
        "target_col = 'Hazardous'\n",
        "\n",
        "nasa_corr = nasa_df.corr()[target_col].sort_values()\n",
        "nasa_corr = nasa_corr[abs(nasa_corr) > 0.1]\n",
        "nasa_corr"
      ],
      "execution_count": 188,
      "outputs": [
        {
          "output_type": "execute_result",
          "data": {
            "text/plain": [
              "Orbit Uncertainity             -0.328721\n",
              "Absolute Magnitude             -0.325522\n",
              "Minimum Orbit Intersection     -0.288949\n",
              "Neo Reference ID               -0.269028\n",
              "Name                           -0.269028\n",
              "Perihelion Distance            -0.207027\n",
              "Est Dia in Miles(min)           0.132424\n",
              "Est Dia in KM(min)              0.132424\n",
              "Est Dia in KM(max)              0.132424\n",
              "Est Dia in M(max)               0.132424\n",
              "Est Dia in Feet(max)            0.132424\n",
              "Est Dia in M(min)               0.132424\n",
              "Est Dia in Feet(min)            0.132424\n",
              "Est Dia in Miles(max)           0.132424\n",
              "Eccentricity                    0.183269\n",
              "Relative Velocity km per hr     0.191970\n",
              "Miles per hour                  0.191970\n",
              "Relative Velocity km per sec    0.191970\n",
              "Orbit ID                        0.247369\n",
              "Hazardous                       1.000000\n",
              "Name: Hazardous, dtype: float64"
            ]
          },
          "metadata": {
            "tags": []
          },
          "execution_count": 188
        }
      ]
    },
    {
      "cell_type": "code",
      "metadata": {
        "id": "gLxNm17k5nli"
      },
      "source": [
        "# Use sklearn to split our dataset\n",
        "\n",
        "X = nasa_df[['Orbit Uncertainity', 'Absolute Magnitude', 'Minimum Orbit Intersection']]\n",
        "y = nasa_df['Hazardous']\n",
        "X_train, X_test, y_train, y_test = train_test_split(X, y, test_size=0.8, random_state=101)"
      ],
      "execution_count": 189,
      "outputs": []
    },
    {
      "cell_type": "code",
      "metadata": {
        "colab": {
          "base_uri": "https://localhost:8080/"
        },
        "id": "hX0rc9agDG25",
        "outputId": "9360f157-919d-473a-e501-c8c0624801af"
      },
      "source": [
        "# KNN with 3 neigbors:\n",
        "\n",
        "from sklearn.neighbors import KNeighborsClassifier\n",
        "neighbors = KNeighborsClassifier(n_neighbors=3).fit(X_train, y_train)\n",
        "\n",
        "y_hat = neighbors.predict(X_test)\n",
        "\n",
        "from sklearn import metrics\n",
        "print(\"Train set Accuracy: \", metrics.accuracy_score(y_train, neighbors.predict(X_train)))\n",
        "print(\"Test set Accuracy: \", metrics.accuracy_score(y_test, y_hat))\n"
      ],
      "execution_count": 190,
      "outputs": [
        {
          "output_type": "stream",
          "text": [
            "Train set Accuracy:  0.9573105656350054\n",
            "Test set Accuracy:  0.8936\n"
          ],
          "name": "stdout"
        }
      ]
    },
    {
      "cell_type": "markdown",
      "metadata": {
        "id": "lv3GpDeDTDSo"
      },
      "source": [
        "**Looks like KNN with 3 neighbours yielded good results!**\n",
        "\n",
        "However, let's also look at a Multi-Layer Perceptron."
      ]
    },
    {
      "cell_type": "code",
      "metadata": {
        "id": "u-7xP6mY5nli",
        "colab": {
          "base_uri": "https://localhost:8080/"
        },
        "outputId": "e5f73c44-ab72-482f-d140-a44f4e6efb8c"
      },
      "source": [
        "# Use sklearn to scale the feature vector\n",
        "\n",
        "from sklearn.preprocessing import StandardScaler\n",
        "scaler = StandardScaler()\n",
        "# Fit only to the training data\n",
        "scaler.fit(X_train)"
      ],
      "execution_count": 192,
      "outputs": [
        {
          "output_type": "execute_result",
          "data": {
            "text/plain": [
              "StandardScaler(copy=True, with_mean=True, with_std=True)"
            ]
          },
          "metadata": {
            "tags": []
          },
          "execution_count": 192
        }
      ]
    },
    {
      "cell_type": "code",
      "metadata": {
        "id": "KUck1dN1GD2A"
      },
      "source": [
        "X_train = scaler.transform(X_train)\n",
        "X_test = scaler.transform(X_test)"
      ],
      "execution_count": 193,
      "outputs": []
    },
    {
      "cell_type": "markdown",
      "metadata": {
        "id": "NYIKhP4-5nlj"
      },
      "source": [
        "For this project I will use a neural network with 3 hidden layers with 3 nodes per layer. The input size will be 3 (1 per attribute) and the output will be 1 (since there are 8 breeds of cat)."
      ]
    },
    {
      "cell_type": "code",
      "metadata": {
        "id": "otfAphPx5nlj"
      },
      "source": [
        "# Initialize a MLP Classifier with your choice of parameters\n",
        "from sklearn.neural_network import MLPClassifier\n",
        "mlp = MLPClassifier(hidden_layer_sizes=(3,3,3))"
      ],
      "execution_count": 194,
      "outputs": []
    },
    {
      "cell_type": "code",
      "metadata": {
        "id": "v48nrZlA5nlj",
        "colab": {
          "base_uri": "https://localhost:8080/"
        },
        "outputId": "f3d36c30-53bb-4bd7-ee6b-10dc765bd5f9"
      },
      "source": [
        "# Fit the network, print the trained weights, and try sample data`\n",
        "mlp.fit(X_train,y_train)"
      ],
      "execution_count": 195,
      "outputs": [
        {
          "output_type": "stream",
          "text": [
            "/usr/local/lib/python3.7/dist-packages/sklearn/neural_network/_multilayer_perceptron.py:571: ConvergenceWarning: Stochastic Optimizer: Maximum iterations (200) reached and the optimization hasn't converged yet.\n",
            "  % self.max_iter, ConvergenceWarning)\n"
          ],
          "name": "stderr"
        },
        {
          "output_type": "execute_result",
          "data": {
            "text/plain": [
              "MLPClassifier(activation='relu', alpha=0.0001, batch_size='auto', beta_1=0.9,\n",
              "              beta_2=0.999, early_stopping=False, epsilon=1e-08,\n",
              "              hidden_layer_sizes=(3, 3, 3), learning_rate='constant',\n",
              "              learning_rate_init=0.001, max_fun=15000, max_iter=200,\n",
              "              momentum=0.9, n_iter_no_change=10, nesterovs_momentum=True,\n",
              "              power_t=0.5, random_state=None, shuffle=True, solver='adam',\n",
              "              tol=0.0001, validation_fraction=0.1, verbose=False,\n",
              "              warm_start=False)"
            ]
          },
          "metadata": {
            "tags": []
          },
          "execution_count": 195
        }
      ]
    },
    {
      "cell_type": "markdown",
      "metadata": {
        "id": "emGMbzD_5nlk"
      },
      "source": [
        "Once again let's analyze the accuracy of our machine learning. Here is the accuracy for the test set."
      ]
    },
    {
      "cell_type": "code",
      "metadata": {
        "id": "DLp-Be9s5nlk",
        "colab": {
          "base_uri": "https://localhost:8080/"
        },
        "outputId": "edf0244e-a8fd-4014-defc-e3c61f621317"
      },
      "source": [
        "# Report on the accuracy of the Test set for your classifier\n",
        "predictions = mlp.predict(X_test)\n",
        "from sklearn.metrics import classification_report,confusion_matrix\n",
        "print(confusion_matrix(y_test,predictions))\n",
        "print(classification_report(y_test,predictions))"
      ],
      "execution_count": 196,
      "outputs": [
        {
          "output_type": "stream",
          "text": [
            "[[3149    0]\n",
            " [ 601    0]]\n",
            "              precision    recall  f1-score   support\n",
            "\n",
            "           0       0.84      1.00      0.91      3149\n",
            "           1       0.00      0.00      0.00       601\n",
            "\n",
            "    accuracy                           0.84      3750\n",
            "   macro avg       0.42      0.50      0.46      3750\n",
            "weighted avg       0.71      0.84      0.77      3750\n",
            "\n"
          ],
          "name": "stdout"
        },
        {
          "output_type": "stream",
          "text": [
            "/usr/local/lib/python3.7/dist-packages/sklearn/metrics/_classification.py:1272: UndefinedMetricWarning: Precision and F-score are ill-defined and being set to 0.0 in labels with no predicted samples. Use `zero_division` parameter to control this behavior.\n",
            "  _warn_prf(average, modifier, msg_start, len(result))\n"
          ],
          "name": "stderr"
        }
      ]
    },
    {
      "cell_type": "markdown",
      "metadata": {
        "id": "dorEzcNu5nlk"
      },
      "source": [
        "And just as before let's do a k-fold cross validation to see if we didn't just get lucky (or unlucky on our first go)."
      ]
    },
    {
      "cell_type": "code",
      "metadata": {
        "colab": {
          "base_uri": "https://localhost:8080/"
        },
        "id": "EAAPqqeKG3eX",
        "outputId": "191f5832-2488-4c7a-941b-b4ae2cf599fb"
      },
      "source": [
        "# Cross validation\n",
        "\n",
        "scores = cross_val_score(mlp, X, y, cv=6)\n",
        "print('Cross-validated scores:', scores)"
      ],
      "execution_count": 197,
      "outputs": [
        {
          "output_type": "stream",
          "text": [
            "/usr/local/lib/python3.7/dist-packages/sklearn/neural_network/_multilayer_perceptron.py:571: ConvergenceWarning: Stochastic Optimizer: Maximum iterations (200) reached and the optimization hasn't converged yet.\n",
            "  % self.max_iter, ConvergenceWarning)\n",
            "/usr/local/lib/python3.7/dist-packages/sklearn/neural_network/_multilayer_perceptron.py:571: ConvergenceWarning: Stochastic Optimizer: Maximum iterations (200) reached and the optimization hasn't converged yet.\n",
            "  % self.max_iter, ConvergenceWarning)\n"
          ],
          "name": "stderr"
        },
        {
          "output_type": "stream",
          "text": [
            "Cross-validated scores: [0.83887468 0.92445583 0.83866837 0.83866837 0.83866837 0.93854033]\n"
          ],
          "name": "stdout"
        },
        {
          "output_type": "stream",
          "text": [
            "/usr/local/lib/python3.7/dist-packages/sklearn/neural_network/_multilayer_perceptron.py:571: ConvergenceWarning: Stochastic Optimizer: Maximum iterations (200) reached and the optimization hasn't converged yet.\n",
            "  % self.max_iter, ConvergenceWarning)\n"
          ],
          "name": "stderr"
        }
      ]
    },
    {
      "cell_type": "markdown",
      "metadata": {
        "id": "xB8o-7vZ5nlk"
      },
      "source": [
        "## Conclusions\n",
        "\n",
        "\n",
        "In the aftermath, in the course of this project, I found that for Linear Regression, it is important to use highly-correlated data that is linear. For that, it helps to first look at the correlation matrix, and then look at the scatter plots of the features of interest to find good predictors.\n",
        "\n",
        "For classification, depending on the data, it seems like there were diferent levels of complexity models that can produce good results. It also helped a lot to look at the correlation series between the target value and the other features to find goos predictors.\n",
        "\n",
        "If I had more time, I would have enjoyed visualizing the neural network - seems like a fun project. I would also try other models to see how differently they would've performed."
      ]
    },
    {
      "cell_type": "code",
      "metadata": {
        "id": "m1kQxcQ75nlk"
      },
      "source": [
        ""
      ],
      "execution_count": null,
      "outputs": []
    }
  ]
}